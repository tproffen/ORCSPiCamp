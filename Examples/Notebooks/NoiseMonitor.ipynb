{
 "cells": [
  {
   "cell_type": "markdown",
   "id": "045855a9",
   "metadata": {},
   "source": [
    "#### Noise detector"
   ]
  },
  {
   "cell_type": "code",
   "execution_count": 9,
   "id": "496faf28",
   "metadata": {},
   "outputs": [],
   "source": [
    "# Needed libraries\n",
    "import ST7735\n",
    "from PIL import Image, ImageDraw\n",
    "from enviroplus.noise import Noise\n",
    "from IPython.display import clear_output, display, update_display"
   ]
  },
  {
   "cell_type": "code",
   "execution_count": 10,
   "id": "ea292596",
   "metadata": {},
   "outputs": [],
   "source": [
    "# Class for noise sensor\n",
    "noise = Noise()"
   ]
  },
  {
   "cell_type": "code",
   "execution_count": 14,
   "id": "fc3fdf7b",
   "metadata": {},
   "outputs": [
    {
     "name": "stdout",
     "output_type": "stream",
     "text": [
      "Loop terminated by user\n"
     ]
    }
   ],
   "source": [
    "# Get the amplitudes in these three frequency ranges\n",
    "ranges=[(100, 200), (500, 600), (1000, 1200)]\n",
    "\n",
    "try:\n",
    "    while True:\n",
    "        amps = noise.get_amplitudes_at_frequency_ranges(ranges)\n",
    "        out=\"L: {0:.2f} - M: {1:.2f} - High: {2:.2f}\".format(amps[0],amps[1],amps[2]) \n",
    "        print(out)\n",
    "        clear_output(wait=True)\n",
    "    \n",
    "except KeyboardInterrupt:\n",
    "    print(\"Loop terminated by user\")\n",
    "    pass"
   ]
  },
  {
   "cell_type": "markdown",
   "id": "1f2b4ac5",
   "metadata": {},
   "source": [
    "#### Add a plot to LCD screen"
   ]
  },
  {
   "cell_type": "code",
   "execution_count": 16,
   "id": "b6eecd92",
   "metadata": {},
   "outputs": [],
   "source": [
    "# Setting up the display class - do not worry about the details here :)\n",
    "disp = ST7735.ST7735(port=0,cs=1,dc=9,backlight=12,rotation=270,spi_speed_hz=10000000)\n",
    "\n",
    "disp.begin()\n",
    "img = Image.new('RGB', (disp.width, disp.height), color=(0, 0, 0))\n",
    "draw = ImageDraw.Draw(img)"
   ]
  },
  {
   "cell_type": "code",
   "execution_count": 17,
   "id": "d3e8ed1b",
   "metadata": {},
   "outputs": [
    {
     "name": "stdout",
     "output_type": "stream",
     "text": [
      "Loop terminated by user\n"
     ]
    }
   ],
   "source": [
    "# Get the amplitudes in these three frequency ranges\n",
    "ranges=[(100, 200), (500, 600), (1000, 1200)]\n",
    "\n",
    "try:\n",
    "    while True:\n",
    "        amps = noise.get_amplitudes_at_frequency_ranges(ranges)\n",
    "        out=\"L: {0:.2f} - M: {1:.2f} - High: {2:.2f}\".format(amps[0],amps[1],amps[2]) \n",
    "        print(out)\n",
    "        clear_output(wait=True)\n",
    "        \n",
    "        # Update LCD\n",
    "        amps = [n * 32 for n in amps]\n",
    "        img2 = img.copy()\n",
    "        draw.rectangle((0, 0, disp.width, disp.height), (0, 0, 0))\n",
    "        img.paste(img2, (1, 0))\n",
    "        draw.line((0, 0, 0, amps[0]), fill=(0, 0, 255))\n",
    "        draw.line((0, 0, 0, amps[1]), fill=(0, 255, 0))\n",
    "        draw.line((0, 0, 0, amps[2]), fill=(255, 0, 0))\n",
    "        disp.display(img)\n",
    "    \n",
    "except KeyboardInterrupt:\n",
    "    print(\"Loop terminated by user\")\n",
    "    pass"
   ]
  },
  {
   "cell_type": "code",
   "execution_count": null,
   "id": "792c84f6",
   "metadata": {},
   "outputs": [],
   "source": []
  }
 ],
 "metadata": {
  "kernelspec": {
   "display_name": "Python 3",
   "language": "python",
   "name": "python3"
  },
  "language_info": {
   "codemirror_mode": {
    "name": "ipython",
    "version": 3
   },
   "file_extension": ".py",
   "mimetype": "text/x-python",
   "name": "python",
   "nbconvert_exporter": "python",
   "pygments_lexer": "ipython3",
   "version": "3.7.3"
  }
 },
 "nbformat": 4,
 "nbformat_minor": 5
}
