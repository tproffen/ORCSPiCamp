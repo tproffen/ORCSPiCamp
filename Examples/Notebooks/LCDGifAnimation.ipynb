{
 "cells": [
  {
   "cell_type": "markdown",
   "id": "add6058a",
   "metadata": {},
   "source": [
    "## GIF Animation on LCD Screen"
   ]
  },
  {
   "cell_type": "code",
   "execution_count": null,
   "id": "c02a222c",
   "metadata": {},
   "outputs": [],
   "source": [
    "# Some libraries we need to import\n",
    "\n",
    "from PIL import Image\n",
    "from PIL import ImageDraw\n",
    "from PIL import ImageFont\n",
    "import time\n",
    "\n",
    "import ST7735"
   ]
  },
  {
   "cell_type": "code",
   "execution_count": null,
   "id": "9e7f406e",
   "metadata": {},
   "outputs": [],
   "source": [
    "# Name of the file, it needs to be in the same folder as the notebook\n",
    "\n",
    "image_file = \"party_blob.gif\""
   ]
  },
  {
   "cell_type": "code",
   "execution_count": null,
   "id": "b148e544",
   "metadata": {},
   "outputs": [],
   "source": [
    "# Setting up the display class - do not worry about the details here :)\n",
    "\n",
    "disp = ST7735.ST7735(port=0,cs=1,dc=9,backlight=12,rotation=270,spi_speed_hz=10000000)"
   ]
  },
  {
   "cell_type": "code",
   "execution_count": null,
   "id": "9250baea",
   "metadata": {},
   "outputs": [],
   "source": [
    "# Initialize display.\n",
    "disp.begin()\n",
    "\n",
    "width = disp.width\n",
    "height = disp.height\n",
    "\n",
    "# Load file\n",
    "image = Image.open(image_file)\n",
    "print('Drawing gif, stop this cell to exit!')\n",
    "\n",
    "frame = 0\n",
    "\n",
    "while True:\n",
    "    try:\n",
    "        image.seek(frame)\n",
    "        disp.display(image.resize((width, height)))\n",
    "        frame += 1\n",
    "        time.sleep(0.02)\n",
    "\n",
    "    except EOFError:\n",
    "        frame = 0"
   ]
  },
  {
   "cell_type": "code",
   "execution_count": null,
   "id": "8ef72011",
   "metadata": {},
   "outputs": [],
   "source": []
  }
 ],
 "metadata": {
  "kernelspec": {
   "display_name": "Python 3",
   "language": "python",
   "name": "python3"
  },
  "language_info": {
   "codemirror_mode": {
    "name": "ipython",
    "version": 3
   },
   "file_extension": ".py",
   "mimetype": "text/x-python",
   "name": "python",
   "nbconvert_exporter": "python",
   "pygments_lexer": "ipython3",
   "version": "3.7.3"
  }
 },
 "nbformat": 4,
 "nbformat_minor": 5
}
