{
 "cells": [
  {
   "cell_type": "code",
   "execution_count": 3,
   "id": "13fbd5ad",
   "metadata": {},
   "outputs": [],
   "source": [
    "import gspread\n",
    "from oauth2client.service_account import ServiceAccountCredentials\n",
    "\n",
    "# use creds to create a client to interact with the Google Drive API\n",
    "scopes = [\"https://www.googleapis.com/auth/drive\", \"https://www.googleapis.com/auth/drive.file\", \"https://www.googleapis.com/auth/spreadsheets\"]\n",
    "creds = ServiceAccountCredentials.from_json_keyfile_name('client_secret.json', scopes)\n",
    "client = gspread.authorize(creds)\n",
    "\n",
    "# Find a workbook by name and open the first sheet\n",
    "# Make sure you use the right name here.\n",
    "sheet = client.open(\"PiLog\").sheet1"
   ]
  },
  {
   "cell_type": "code",
   "execution_count": 4,
   "id": "5f31c2f4",
   "metadata": {},
   "outputs": [
    {
     "data": {
      "text/plain": [
       "{'spreadsheetId': '1-oaMvvoi2_2aPjxtuPtvT3qL6RUdx27GUi7ukgEILsw',\n",
       " 'updates': {'spreadsheetId': '1-oaMvvoi2_2aPjxtuPtvT3qL6RUdx27GUi7ukgEILsw',\n",
       "  'updatedRange': 'Sheet1!A1:D1',\n",
       "  'updatedRows': 1,\n",
       "  'updatedColumns': 4,\n",
       "  'updatedCells': 4}}"
      ]
     },
     "execution_count": 4,
     "metadata": {},
     "output_type": "execute_result"
    }
   ],
   "source": [
    "row = [\"Today\", \"23C\", \"98%\", \"123 ppm\"]\n",
    "index = 1\n",
    "sheet.insert_row(row, index)"
   ]
  },
  {
   "cell_type": "code",
   "execution_count": 7,
   "id": "00c96a41",
   "metadata": {},
   "outputs": [
    {
     "data": {
      "text/plain": [
       "{'spreadsheetId': '1-oaMvvoi2_2aPjxtuPtvT3qL6RUdx27GUi7ukgEILsw',\n",
       " 'tableRange': 'Sheet1!A1:D1',\n",
       " 'updates': {'spreadsheetId': '1-oaMvvoi2_2aPjxtuPtvT3qL6RUdx27GUi7ukgEILsw',\n",
       "  'updatedRange': 'Sheet1!A2:D2',\n",
       "  'updatedRows': 1,\n",
       "  'updatedColumns': 4,\n",
       "  'updatedCells': 4}}"
      ]
     },
     "execution_count": 7,
     "metadata": {},
     "output_type": "execute_result"
    }
   ],
   "source": [
    "sheet.append_row(row)"
   ]
  },
  {
   "cell_type": "code",
   "execution_count": 8,
   "id": "2fcd8d5b",
   "metadata": {},
   "outputs": [],
   "source": [
    "for i in range(10):\n",
    "    row=[i, 2*i, i-7]\n",
    "    sheet.append_row(row)"
   ]
  },
  {
   "cell_type": "code",
   "execution_count": null,
   "id": "3d3fee0c",
   "metadata": {},
   "outputs": [],
   "source": []
  }
 ],
 "metadata": {
  "kernelspec": {
   "display_name": "Python 3",
   "language": "python",
   "name": "python3"
  },
  "language_info": {
   "codemirror_mode": {
    "name": "ipython",
    "version": 3
   },
   "file_extension": ".py",
   "mimetype": "text/x-python",
   "name": "python",
   "nbconvert_exporter": "python",
   "pygments_lexer": "ipython3",
   "version": "3.7.3"
  }
 },
 "nbformat": 4,
 "nbformat_minor": 5
}
