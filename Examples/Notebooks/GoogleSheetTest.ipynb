{
 "cells": [
  {
   "cell_type": "markdown",
   "id": "d48b6f3d",
   "metadata": {},
   "source": [
    "### Google Sheets \n",
    "\n",
    "This notebook shows the code needed to send your sensor data to a Google Sheet. For this part to work, you will need to create a Google Sheet (named `PiLog` or change the name in the code below) and setup a service account. The file `client_secret.json` needs to be present for authentication. Make sure you do *not* add that file to your GitHub repository.\n",
    "\n",
    "Before proceeding, you will need to install the needed drivers. Open a terminal and execute the following commands:\n",
    "\n",
    "```\n",
    "pip3 install gspread oauth2client\n",
    "```"
   ]
  },
  {
   "cell_type": "code",
   "execution_count": null,
   "id": "13fbd5ad",
   "metadata": {},
   "outputs": [],
   "source": [
    "import gspread\n",
    "from oauth2client.service_account import ServiceAccountCredentials\n",
    "\n",
    "sheet_name = \"PiLog\"   # Make sure this matches your Google sheet name\n",
    "\n",
    "# use creds to create a client to interact with the Google Drive API\n",
    "scopes = [\"https://www.googleapis.com/auth/drive\", \"https://www.googleapis.com/auth/drive.file\", \n",
    "          \"https://www.googleapis.com/auth/spreadsheets\"]\n",
    "creds = ServiceAccountCredentials.from_json_keyfile_name('client_secret.json', scopes)\n",
    "client = gspread.authorize(creds)\n",
    "\n",
    "# Find the workbook by name and open the first sheet\n",
    "sheet = client.open(sheet_name).sheet1"
   ]
  },
  {
   "cell_type": "markdown",
   "id": "58926bda",
   "metadata": {},
   "source": [
    "Now we have a connection to the Google Sheet and can append rows (you can also read and change values, but for this master class we only consider appending data)."
   ]
  },
  {
   "cell_type": "code",
   "execution_count": null,
   "id": "5f31c2f4",
   "metadata": {},
   "outputs": [],
   "source": [
    "# We need to provide the data for a row as a Python list\n",
    "row = [\"Today\", \"23C\", \"98%\", \"123 ppm\"]\n",
    "\n",
    "sheet.append_row(row)"
   ]
  },
  {
   "cell_type": "markdown",
   "id": "e79ee42e",
   "metadata": {},
   "source": [
    "Woohoo 🎉🥳 We did it."
   ]
  },
  {
   "cell_type": "code",
   "execution_count": null,
   "id": "94a8d134",
   "metadata": {},
   "outputs": [],
   "source": []
  }
 ],
 "metadata": {
  "kernelspec": {
   "display_name": "Python 3",
   "language": "python",
   "name": "python3"
  },
  "language_info": {
   "codemirror_mode": {
    "name": "ipython",
    "version": 3
   },
   "file_extension": ".py",
   "mimetype": "text/x-python",
   "name": "python",
   "nbconvert_exporter": "python",
   "pygments_lexer": "ipython3",
   "version": "3.7.3"
  }
 },
 "nbformat": 4,
 "nbformat_minor": 5
}
