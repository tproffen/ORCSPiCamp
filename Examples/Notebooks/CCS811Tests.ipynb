{
 "cells": [
  {
   "cell_type": "code",
   "execution_count": 2,
   "id": "7b3bfd33",
   "metadata": {},
   "outputs": [],
   "source": [
    "import time\n",
    "import board\n",
    "import smbus\n",
    "from adafruit_ccs811 import CCS811\n",
    "\n",
    "i2c = board.I2C()  # uses board.SCL and board.SDA\n",
    "ccs811 = CCS811(i2c)"
   ]
  },
  {
   "cell_type": "code",
   "execution_count": 3,
   "id": "a7f4a9bc",
   "metadata": {},
   "outputs": [],
   "source": [
    "# Wait for the sensor to be ready\"\n",
    "while not ccs811.data_ready:\n",
    "    pass"
   ]
  },
  {
   "cell_type": "code",
   "execution_count": 8,
   "id": "efe79e06",
   "metadata": {},
   "outputs": [
    {
     "name": "stdout",
     "output_type": "stream",
     "text": [
      "48899\n"
     ]
    }
   ],
   "source": [
    "# Read baseline \n",
    "\n",
    "baseline = ccs811.baseline\n",
    "print (baseline)"
   ]
  },
  {
   "cell_type": "code",
   "execution_count": 9,
   "id": "91265e4d",
   "metadata": {},
   "outputs": [],
   "source": [
    "# Set a baseline value\n",
    "\n",
    "new_baseline=48904\n",
    "ccs811.baseline = new_baseline"
   ]
  },
  {
   "cell_type": "code",
   "execution_count": 10,
   "id": "c237da46",
   "metadata": {},
   "outputs": [],
   "source": [
    "# We can also set the current T and humudity conditions for better readings\n",
    "\n",
    "h=39.1  # Needs to be in %\n",
    "t=28.1  # Needs to be in C\n",
    "\n",
    "ccs811.set_environmental_data(h,t)"
   ]
  },
  {
   "cell_type": "code",
   "execution_count": null,
   "id": "a4cc4e65",
   "metadata": {},
   "outputs": [],
   "source": []
  }
 ],
 "metadata": {
  "kernelspec": {
   "display_name": "Python 3",
   "language": "python",
   "name": "python3"
  },
  "language_info": {
   "codemirror_mode": {
    "name": "ipython",
    "version": 3
   },
   "file_extension": ".py",
   "mimetype": "text/x-python",
   "name": "python",
   "nbconvert_exporter": "python",
   "pygments_lexer": "ipython3",
   "version": "3.7.3"
  }
 },
 "nbformat": 4,
 "nbformat_minor": 5
}
