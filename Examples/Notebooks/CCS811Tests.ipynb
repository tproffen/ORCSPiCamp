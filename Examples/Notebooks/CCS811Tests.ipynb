{
 "cells": [
  {
   "cell_type": "code",
   "execution_count": 18,
   "id": "7b3bfd33",
   "metadata": {},
   "outputs": [],
   "source": [
    "import time\n",
    "import board\n",
    "import smbus\n",
    "from adafruit_ccs811 import CCS811\n",
    "from bme280 import BME280\n",
    "from ltr559 import LTR559\n",
    "\n",
    "from IPython.display import clear_output, display, update_display\n",
    "\n",
    "i2c = board.I2C()  # uses board.SCL and board.SDA\n",
    "ccs811 = CCS811(i2c)\n",
    "bme280 = BME280()\n",
    "ltr559 = LTR559()"
   ]
  },
  {
   "cell_type": "code",
   "execution_count": 19,
   "id": "d2cf3724",
   "metadata": {},
   "outputs": [],
   "source": [
    "# Simple helper routine to convert the reading to degrees C\n",
    "def readTemp():\n",
    "    # By default the address of LM75A is set to 0x48\n",
    "    address = 0x48\n",
    "\n",
    "    # Read I2C data and calculate temperature\n",
    "    bus = smbus.SMBus(1)\n",
    "    raw = bus.read_word_data(address, 0) & 0xFFFF\n",
    "    raw = ((raw << 8) & 0xFF00) + (raw >> 8)\n",
    "    temperature = (raw / 32.0) / 8.0\n",
    "    return temperature"
   ]
  },
  {
   "cell_type": "code",
   "execution_count": 21,
   "id": "a7f4a9bc",
   "metadata": {},
   "outputs": [
    {
     "name": "stdout",
     "output_type": "stream",
     "text": [
      "CO2: 586 PPM, TVOC: 28 PPB, T: 23.875 C\n",
      "T1: 30.3 C - Humidity: 38.0 % - Pressure: 983 hPa\n",
      "Light: 8.42185\n"
     ]
    },
    {
     "ename": "KeyboardInterrupt",
     "evalue": "",
     "output_type": "error",
     "traceback": [
      "\u001b[0;31m---------------------------------------------------------------------------\u001b[0m",
      "\u001b[0;31mKeyboardInterrupt\u001b[0m                         Traceback (most recent call last)",
      "\u001b[0;32m<ipython-input-21-f25cd946dade>\u001b[0m in \u001b[0;36m<module>\u001b[0;34m\u001b[0m\n\u001b[1;32m     11\u001b[0m                                                                                bme280.get_pressure()))\n\u001b[1;32m     12\u001b[0m     \u001b[0mprint\u001b[0m\u001b[0;34m(\u001b[0m\u001b[0;34m\"Light: {}\"\u001b[0m\u001b[0;34m.\u001b[0m\u001b[0mformat\u001b[0m\u001b[0;34m(\u001b[0m\u001b[0mltr559\u001b[0m\u001b[0;34m.\u001b[0m\u001b[0mget_lux\u001b[0m\u001b[0;34m(\u001b[0m\u001b[0;34m)\u001b[0m\u001b[0;34m)\u001b[0m\u001b[0;34m)\u001b[0m\u001b[0;34m\u001b[0m\u001b[0;34m\u001b[0m\u001b[0m\n\u001b[0;32m---> 13\u001b[0;31m     \u001b[0mtime\u001b[0m\u001b[0;34m.\u001b[0m\u001b[0msleep\u001b[0m\u001b[0;34m(\u001b[0m\u001b[0;36m1.5\u001b[0m\u001b[0;34m)\u001b[0m\u001b[0;34m\u001b[0m\u001b[0;34m\u001b[0m\u001b[0m\n\u001b[0m",
      "\u001b[0;31mKeyboardInterrupt\u001b[0m: "
     ]
    }
   ],
   "source": [
    "# Wait for the sensor to be ready\"\n",
    "while not ccs811.data_ready:\n",
    "    pass\n",
    "\n",
    "while True:\n",
    "    clear_output(wait=True)\n",
    "    t=readTemp()\n",
    "    print(\"CO2: {} PPM, TVOC: {} PPB, T: {} C\".format(ccs811.eco2, ccs811.tvoc, t))\n",
    "    print(\"T1: {0:.1f} C - Humidity: {1:.1f} % - Pressure: {2:.0f} hPa\".format(bme280.get_temperature(),\n",
    "                                                                               bme280.get_humidity(),\n",
    "                                                                               bme280.get_pressure()))\n",
    "    print(\"Light: {}\".format(ltr559.get_lux()))\n",
    "    time.sleep(1.5)"
   ]
  },
  {
   "cell_type": "code",
   "execution_count": null,
   "id": "91265e4d",
   "metadata": {},
   "outputs": [],
   "source": []
  }
 ],
 "metadata": {
  "kernelspec": {
   "display_name": "Python 3",
   "language": "python",
   "name": "python3"
  },
  "language_info": {
   "codemirror_mode": {
    "name": "ipython",
    "version": 3
   },
   "file_extension": ".py",
   "mimetype": "text/x-python",
   "name": "python",
   "nbconvert_exporter": "python",
   "pygments_lexer": "ipython3",
   "version": "3.7.3"
  }
 },
 "nbformat": 4,
 "nbformat_minor": 5
}
