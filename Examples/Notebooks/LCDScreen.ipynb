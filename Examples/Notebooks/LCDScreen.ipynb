{
 "cells": [
  {
   "cell_type": "markdown",
   "id": "81cbd63d",
   "metadata": {},
   "source": [
    "### LCD Screen \n",
    "\n",
    "Here is how you write Hello World on the little LCD screen."
   ]
  },
  {
   "cell_type": "code",
   "execution_count": null,
   "id": "4d19d73d",
   "metadata": {},
   "outputs": [],
   "source": [
    "# Some libraries we need to import\n",
    "\n",
    "from PIL import Image\n",
    "from PIL import ImageDraw\n",
    "from PIL import ImageFont\n",
    "import time\n",
    "\n",
    "import ST7735"
   ]
  },
  {
   "cell_type": "code",
   "execution_count": null,
   "id": "85fa03e9",
   "metadata": {},
   "outputs": [],
   "source": [
    "# Setting up the display class - do not worry about the details here :)\n",
    "\n",
    "disp = ST7735.ST7735(port=0,cs=1,dc=9,backlight=12,rotation=270,spi_speed_hz=10000000)"
   ]
  },
  {
   "cell_type": "code",
   "execution_count": null,
   "id": "65be8d4e",
   "metadata": {},
   "outputs": [],
   "source": [
    "# Here is the message (freel free to change it)\n",
    "message = \"ORCSGirls are super cool !!\""
   ]
  },
  {
   "cell_type": "code",
   "execution_count": null,
   "id": "9cc06311",
   "metadata": {},
   "outputs": [],
   "source": [
    "# Initialize display.\n",
    "disp.begin()\n",
    "\n",
    "# We create images with the text that we send to the display\n",
    "# This screen is 160 x 80 pixels in size\n",
    "img = Image.new('RGB', (160, 80), color=(0, 0, 0))\n",
    "draw = ImageDraw.Draw(img)\n",
    "\n",
    "# Set the font and get the size of the letters\n",
    "font = ImageFont.truetype(\"/usr/share/fonts/truetype/dejavu/DejaVuSans-Bold.ttf\", 30)\n",
    "size_x, size_y = draw.textsize(message, font)\n",
    "\n",
    "# Where the text will start\n",
    "text_x = 160\n",
    "text_y = (80 - size_y) // 2\n",
    "\n",
    "# Remembering the start time for the loop to make the text scroll\n",
    "t_start = time.time()"
   ]
  },
  {
   "cell_type": "code",
   "execution_count": null,
   "id": "c4b7154d",
   "metadata": {},
   "outputs": [],
   "source": [
    "# Here is the scrolling loop. We basically keep changin the 'x' for the text.\n",
    "\n",
    "while True:\n",
    "    x = (time.time() - t_start) * 50\n",
    "    x %= (size_x + 160)\n",
    "    draw.rectangle((0, 0, 160, 80), (0, 0, 0))\n",
    "    draw.text((int(text_x - x), text_y), message, font=font, fill=(255, 255, 255))\n",
    "    disp.display(img)"
   ]
  },
  {
   "cell_type": "markdown",
   "id": "c167cea4",
   "metadata": {},
   "source": [
    "### Challenges\n",
    "\n",
    "By changing the code above, try to\n",
    "\n",
    "* Change the text message\n",
    "* Change the color of the text\n",
    "* Change the scrolling speed\n",
    "* Change font size\n",
    "* Change background color"
   ]
  },
  {
   "cell_type": "code",
   "execution_count": null,
   "id": "cdb6eee8",
   "metadata": {},
   "outputs": [],
   "source": []
  }
 ],
 "metadata": {
  "kernelspec": {
   "display_name": "Python 3",
   "language": "python",
   "name": "python3"
  },
  "language_info": {
   "codemirror_mode": {
    "name": "ipython",
    "version": 3
   },
   "file_extension": ".py",
   "mimetype": "text/x-python",
   "name": "python",
   "nbconvert_exporter": "python",
   "pygments_lexer": "ipython3",
   "version": "3.7.3"
  }
 },
 "nbformat": 4,
 "nbformat_minor": 5
}
