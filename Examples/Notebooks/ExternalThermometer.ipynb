{
 "cells": [
  {
   "cell_type": "markdown",
   "id": "0d5efeda",
   "metadata": {},
   "source": [
    "### External temperature sensor\n",
    "\n",
    "This will only work if the external temperature sensor is wired up. To test you can open a terminal and enter the command `i2cdetect 1` and then say `y` when asked if you want to scan. You should see '48' on the list if the sensor is correctly attached."
   ]
  },
  {
   "cell_type": "code",
   "execution_count": null,
   "id": "2fd03369",
   "metadata": {},
   "outputs": [],
   "source": [
    "import smbus"
   ]
  },
  {
   "cell_type": "code",
   "execution_count": 5,
   "id": "e69c39ce",
   "metadata": {},
   "outputs": [],
   "source": [
    "# Simple function to read the temperature\n",
    "\n",
    "def readTemp():\n",
    "    # By default the address of LM75A is set to 0x48\n",
    "    address = 0x48\n",
    "\n",
    "    # Read I2C data and calculate temperature\n",
    "    bus = smbus.SMBus(1)\n",
    "    raw = bus.read_word_data(address, 0) & 0xFFFF\n",
    "    raw = ((raw << 8) & 0xFF00) + (raw >> 8)\n",
    "    temperature = (raw / 32.0) / 8.0\n",
    "    return temperature"
   ]
  },
  {
   "cell_type": "code",
   "execution_count": 6,
   "id": "f8b2fc95",
   "metadata": {},
   "outputs": [
    {
     "name": "stdout",
     "output_type": "stream",
     "text": [
      "Temperature: 22.88 *C\n"
     ]
    }
   ],
   "source": [
    "# Print temperature\n",
    "t = readTemp()\n",
    "out= 'Temperature: {0:0.2f} *C'.format(t)\n",
    "print(out)"
   ]
  },
  {
   "cell_type": "code",
   "execution_count": null,
   "id": "926b203b",
   "metadata": {},
   "outputs": [],
   "source": []
  }
 ],
 "metadata": {
  "kernelspec": {
   "display_name": "Python 3",
   "language": "python",
   "name": "python3"
  },
  "language_info": {
   "codemirror_mode": {
    "name": "ipython",
    "version": 3
   },
   "file_extension": ".py",
   "mimetype": "text/x-python",
   "name": "python",
   "nbconvert_exporter": "python",
   "pygments_lexer": "ipython3",
   "version": "3.7.3"
  }
 },
 "nbformat": 4,
 "nbformat_minor": 5
}
