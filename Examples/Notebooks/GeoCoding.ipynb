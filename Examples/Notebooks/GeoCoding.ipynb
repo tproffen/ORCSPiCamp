{
 "cells": [
  {
   "cell_type": "markdown",
   "id": "5957b1ee",
   "metadata": {},
   "source": [
    "### Geo Coding\n",
    "\n",
    "In order to provide a location as lonitude and latitude, we will need to convert our address. There is (of course) a Python way of doing this. Before you can run this, you need to install geopy. Open a terminal and enter this command\n",
    "\n",
    "`sudo apt-get install python3-geopy`\n",
    "\n",
    "and you are all set :) Learn more at https://geopy.readthedocs.io/en/stable/#"
   ]
  },
  {
   "cell_type": "code",
   "execution_count": 1,
   "id": "3a293881",
   "metadata": {},
   "outputs": [],
   "source": [
    "from geopy.geocoders import Nominatim"
   ]
  },
  {
   "cell_type": "code",
   "execution_count": 6,
   "id": "4be1f49c",
   "metadata": {},
   "outputs": [],
   "source": [
    "geolocator = Nominatim(user_agent=\"myGeocoder\")\n",
    "location = geolocator.geocode(\"Oak Ridge, TN\")"
   ]
  },
  {
   "cell_type": "code",
   "execution_count": 7,
   "id": "ca25552d",
   "metadata": {},
   "outputs": [
    {
     "name": "stdout",
     "output_type": "stream",
     "text": [
      "(36.0103562, -84.2696449)\n"
     ]
    }
   ],
   "source": [
    "print((location.latitude, location.longitude))"
   ]
  },
  {
   "cell_type": "code",
   "execution_count": 8,
   "id": "90985c5a",
   "metadata": {},
   "outputs": [
    {
     "name": "stdout",
     "output_type": "stream",
     "text": [
      "{'place_id': 257567554, 'licence': 'Data © OpenStreetMap contributors, ODbL 1.0. https://osm.org/copyright', 'osm_type': 'relation', 'osm_id': 196150, 'boundingbox': ['35.874865', '36.064502', '-84.436588', '-84.156558'], 'lat': '36.0103562', 'lon': '-84.2696449', 'display_name': 'Oak Ridge, Anderson County, Tennessee, United States', 'class': 'boundary', 'type': 'administrative', 'importance': 0.6629532870258854, 'icon': 'https://nominatim.openstreetmap.org/ui/mapicons//poi_boundary_administrative.p.20.png'}\n"
     ]
    }
   ],
   "source": [
    "print(location.raw)"
   ]
  },
  {
   "cell_type": "code",
   "execution_count": null,
   "id": "a440d8a4",
   "metadata": {},
   "outputs": [],
   "source": []
  }
 ],
 "metadata": {
  "kernelspec": {
   "display_name": "Python 3",
   "language": "python",
   "name": "python3"
  },
  "language_info": {
   "codemirror_mode": {
    "name": "ipython",
    "version": 3
   },
   "file_extension": ".py",
   "mimetype": "text/x-python",
   "name": "python",
   "nbconvert_exporter": "python",
   "pygments_lexer": "ipython3",
   "version": "3.7.3"
  }
 },
 "nbformat": 4,
 "nbformat_minor": 5
}
