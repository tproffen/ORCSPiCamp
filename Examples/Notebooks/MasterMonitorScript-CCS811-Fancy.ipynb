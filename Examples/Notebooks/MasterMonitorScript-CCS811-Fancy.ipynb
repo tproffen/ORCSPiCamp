{
 "cells": [
  {
   "cell_type": "markdown",
   "id": "5e90696e",
   "metadata": {},
   "source": [
    "# Monitor Script\n",
    "\n",
    "This is an example script monitoring values form the Enviro board and the external temperature sensor. I tried to organize the code in a way that makes it easy learn and to use parts of it for your scripts."
   ]
  },
  {
   "cell_type": "code",
   "execution_count": 1,
   "id": "e6a74354",
   "metadata": {},
   "outputs": [],
   "source": [
    "# Needed to communicate with the BME280 sensor (temperature, humidity, pressure)\n",
    "\n",
    "from bme280 import BME280\n",
    "bme280 = BME280()"
   ]
  },
  {
   "cell_type": "code",
   "execution_count": 2,
   "id": "8140588f",
   "metadata": {},
   "outputs": [],
   "source": [
    "# This is needed if you want to use the light sensor\n",
    "\n",
    "from ltr559 import LTR559\n",
    "ltr559 = LTR559()"
   ]
  },
  {
   "cell_type": "code",
   "execution_count": 3,
   "id": "75d0d258",
   "metadata": {},
   "outputs": [
    {
     "name": "stdout",
     "output_type": "stream",
     "text": [
      "CCS811 Sensor ready.\n"
     ]
    }
   ],
   "source": [
    "# Added code to read the CCS811 sensor values\n",
    "\n",
    "import busio\n",
    "import board\n",
    "import adafruit_ccs811\n",
    "\n",
    "i2c = board.I2C() \n",
    "ccs = adafruit_ccs811.CCS811(i2c)\n",
    "\n",
    "while (not ccs.data_ready):\n",
    "    pass\n",
    "\n",
    "print (\"CCS811 Sensor ready.\")"
   ]
  },
  {
   "cell_type": "code",
   "execution_count": 4,
   "id": "b28c91f9",
   "metadata": {},
   "outputs": [],
   "source": [
    "# This is what we need to read the external temperature sensor\n",
    "\n",
    "import smbus\n",
    "\n",
    "# Simple helper routine to convert the reading to degrees C\n",
    "def readTemp():\n",
    "    # By default the address of LM75A is set to 0x48\n",
    "    address = 0x48\n",
    "\n",
    "    # Read I2C data and calculate temperature\n",
    "    bus = smbus.SMBus(1)\n",
    "    raw = bus.read_word_data(address, 0) & 0xFFFF\n",
    "    raw = ((raw << 8) & 0xFF00) + (raw >> 8)\n",
    "    temperature = (raw / 32.0) / 8.0\n",
    "    return temperature"
   ]
  },
  {
   "cell_type": "code",
   "execution_count": 5,
   "id": "04a76c58",
   "metadata": {},
   "outputs": [],
   "source": [
    "# This is what we need to communicate with the Adafruit Cloud\n",
    "\n",
    "from Adafruit_IO import Client, Feed, RequestError\n",
    "\n",
    "ADAFRUIT_IO_USERNAME = \"tproffen\"\n",
    "ADAFRUIT_IO_KEY = \"ed44b8031ec34d1fb2eda6f4d8a0c832\"\n",
    "\n",
    "aio = Client(ADAFRUIT_IO_USERNAME, ADAFRUIT_IO_KEY)"
   ]
  },
  {
   "cell_type": "code",
   "execution_count": 27,
   "id": "6fa69b1d",
   "metadata": {},
   "outputs": [],
   "source": [
    "# Routines to write to the LCD screen\n",
    "\n",
    "import ST7735\n",
    "from PIL import Image, ImageDraw, ImageFont\n",
    "from fonts.ttf import RobotoMedium as UserFont\n",
    "\n",
    "disp = ST7735.ST7735(port=0,cs=1,dc=9,backlight=12,rotation=270,spi_speed_hz=10000000)\n",
    "disp.begin()\n",
    "\n",
    "back_color = (0, 60, 20)\n",
    "text_color = (255, 255, 255)\n",
    "head_color = (255, 255,   0)\n",
    "warn_color = (255,  50,  50)\n",
    "font_size  = 14\n",
    "text_margin= 5\n",
    "\n",
    "img = Image.new('RGBA', (disp.width, disp.height))\n",
    "draw = ImageDraw.Draw(img)\n",
    "font = ImageFont.truetype(UserFont, font_size)\n",
    "font_big = ImageFont.truetype(UserFont, 2*font_size)\n",
    "size_x, size_y = draw.textsize('text', font)\n",
    "\n",
    "# We pass the name and the value so we can 'cycle' through the sensors\n",
    "def updateLCD(label, value, unit): \n",
    "    if (value < 1000):\n",
    "        vstr=\"{0:.1f} {1}\".format(value, unit)\n",
    "    else:\n",
    "        vstr=\"{0:.0f} {1}\".format(value, unit)\n",
    "        \n",
    "    draw.rectangle((0, 0, disp.width, disp.height), back_color)\n",
    "    draw.text((text_margin, text_margin), \"ORCSPICamp Station\", font=font, fill=head_color)\n",
    "    draw.text((text_margin, text_margin+2.0*size_y), label, font=font, fill=text_color)\n",
    "    draw.text((text_margin, text_margin+3.5*size_y), vstr, font=font_big, fill=text_color)\n",
    "    disp.display(img)\n"
   ]
  },
  {
   "cell_type": "code",
   "execution_count": 7,
   "id": "374e57d4",
   "metadata": {},
   "outputs": [],
   "source": [
    "# Some general settings\n",
    "import time\n",
    "from datetime import datetime\n",
    "from IPython.display import clear_output, display, update_display\n",
    "\n",
    "# Get feeds using our routine\n",
    "tempFeed  = aio.feeds(\"temperature\")\n",
    "temp2Feed = aio.feeds(\"tempexternal\")\n",
    "humidFeed = aio.feeds(\"humidity\")\n",
    "pressFeed = aio.feeds(\"pressure\")\n",
    "lightFeed = aio.feeds(\"brightness\")\n",
    "co2Feed   = aio.feeds(\"co2\")\n",
    "tvocFeed  = aio.feeds(\"tvoc\")\n",
    "\n",
    "# Set metadata associated with our measurement station. Update for your location\n",
    "metadata = {'lat': 36.010357, 'lon': -84.269646, 'ele': 850, 'created_at': None}"
   ]
  },
  {
   "cell_type": "markdown",
   "id": "fd38c13f",
   "metadata": {},
   "source": [
    "## Main loop"
   ]
  },
  {
   "cell_type": "code",
   "execution_count": null,
   "id": "50d4fd19",
   "metadata": {},
   "outputs": [
    {
     "name": "stdout",
     "output_type": "stream",
     "text": [
      "T1: 29.4 C - T2: 22.2 C - Humidity: 33.2 % - Pressure: 978 hPa\n",
      "CO2: 1676.0 ppm - TVOC: 314.0 ppb\n",
      "Updated: 2021-09-09 00:30:46.537209\n"
     ]
    }
   ],
   "source": [
    "start_time   = time.time()\n",
    "current_time = start_time\n",
    "\n",
    "update_data = 60.0\n",
    "update_lcd  = 3.0\n",
    "next_lcd    = 't'\n",
    "\n",
    "running = True\n",
    "\n",
    "while running:\n",
    "    try:        \n",
    "        # Only do the data update if elapsed time is multiple of upodate_data\n",
    "        if ((int (current_time - start_time) % update_data) == 0):\n",
    "            p  = bme280.get_pressure()\n",
    "            t  = bme280.get_temperature()\n",
    "            h  = bme280.get_humidity()\n",
    "            l  = ltr559.get_lux()\n",
    "            c  = ccs.eco2\n",
    "            v  = ccs.tvoc\n",
    "            t2 = readTemp() \n",
    "\n",
    "            clear_output(wait=True)          \n",
    "\n",
    "            out=\"T1: {0:.1f} C - T2: {1:.1f} C - Humidity: {2:.1f} % - Pressure: {3:.0f} hPa\".format(t,t2,h,p)\n",
    "            print(out)\n",
    "            out=\"CO2: {0:.1f} ppm - TVOC: {1:.1f} ppb\".format(c,v)\n",
    "            print(out)\n",
    "            print('Updated:',datetime.now())\n",
    "\n",
    "            aio.send_data(tempFeed.key,  t, metadata)\n",
    "            aio.send_data(temp2Feed.key, t2, metadata)\n",
    "            aio.send_data(humidFeed.key, h, metadata)\n",
    "            aio.send_data(pressFeed.key, p, metadata)\n",
    "            aio.send_data(lightFeed.key, l, metadata)\n",
    "            aio.send_data(co2Feed.key, c, metadata)\n",
    "            aio.send_data(tvocFeed.key, v, metadata)\n",
    "        \n",
    "        # We update the LCD every cycle\n",
    "        if (next_lcd == 't'):\n",
    "            updateLCD('Temperature', t, 'C')\n",
    "            next_lcd = 't2'\n",
    "        elif (next_lcd == 't2'):\n",
    "            updateLCD('Temperature (ext)', t2, 'C')\n",
    "            next_lcd = 'h'\n",
    "        elif (next_lcd == 'h'):\n",
    "            updateLCD('Humidity', h, '%')\n",
    "            next_lcd = 'p'\n",
    "        elif (next_lcd == 'p'):\n",
    "            updateLCD('Pressure', p, 'hPa')\n",
    "            next_lcd = 'c'\n",
    "        elif (next_lcd == 'c'):\n",
    "            updateLCD('CO2', c, 'ppm')\n",
    "            next_lcd = 'v'\n",
    "        elif (next_lcd == 'v'):\n",
    "            updateLCD('TVOC', v, 'ppb')\n",
    "            next_lcd = 't'\n",
    "\n",
    "        current_time = time.time()\n",
    "        time.sleep(update_lcd)\n",
    "        \n",
    "    except IOError:\n",
    "        pass\n",
    "    except KeyboardInterrupt:\n",
    "        print (\"Loop terminated by user.\")\n",
    "        running = False\n"
   ]
  },
  {
   "cell_type": "code",
   "execution_count": null,
   "id": "dd4dc368",
   "metadata": {},
   "outputs": [],
   "source": []
  }
 ],
 "metadata": {
  "kernelspec": {
   "display_name": "Python 3",
   "language": "python",
   "name": "python3"
  },
  "language_info": {
   "codemirror_mode": {
    "name": "ipython",
    "version": 3
   },
   "file_extension": ".py",
   "mimetype": "text/x-python",
   "name": "python",
   "nbconvert_exporter": "python",
   "pygments_lexer": "ipython3",
   "version": "3.7.3"
  }
 },
 "nbformat": 4,
 "nbformat_minor": 5
}
