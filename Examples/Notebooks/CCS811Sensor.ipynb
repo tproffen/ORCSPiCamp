{
 "cells": [
  {
   "cell_type": "markdown",
   "id": "e948a93f",
   "metadata": {},
   "source": [
    "### CO2 and TVOC Sensor\n",
    "\n",
    "As part of the masterclass, we are adding a new gas sensor (CCS811) to the Raspberry Pi that can measure TVOCs (total volatile organics compounds) and CO2. First we need to install the driver for the new sensor. Open a terminal and run this command\n",
    "\n",
    "```\n",
    "pip3 install adafruit-circuitpython-ccs811\n",
    "```\n",
    "\n",
    "Note that this sensor requires the I2C bus to run slower to work. You will need to add the line below to /boot/config.txt and reboot the Pi before using it or the first time:\n",
    "\n",
    "```\n",
    "dtparam=i2c_arm_baudrate=10000\n",
    "```\n",
    "\n",
    "Note the sensor will need some time to run before giving sensible values. Also since it determines its 'baseline' it should be started in 'clean' air."
   ]
  },
  {
   "cell_type": "code",
   "execution_count": null,
   "id": "7b3bfd33",
   "metadata": {},
   "outputs": [],
   "source": [
    "import busio\n",
    "import board\n",
    "import adafruit_ccs811\n",
    "\n",
    "i2c = board.I2C() \n",
    "ccs = adafruit_ccs811.CCS811(i2c)"
   ]
  },
  {
   "cell_type": "markdown",
   "id": "cfb60aa3",
   "metadata": {},
   "source": [
    "The sensor takes a moment to start up and we can use the commands below to wait for the sensor to be ready. "
   ]
  },
  {
   "cell_type": "code",
   "execution_count": null,
   "id": "a7f4a9bc",
   "metadata": {},
   "outputs": [],
   "source": [
    "while not ccs.data_ready:\n",
    "    pass\n",
    "\n",
    "print (\"Sensor ready\")"
   ]
  },
  {
   "cell_type": "markdown",
   "id": "891e5ee4",
   "metadata": {},
   "source": [
    "Now we are ready to read the sensor values."
   ]
  },
  {
   "cell_type": "code",
   "execution_count": null,
   "id": "150b4333",
   "metadata": {},
   "outputs": [],
   "source": [
    "print(\"CO2: \", ccs.eco2, \" TVOC:\", ccs.tvoc)"
   ]
  },
  {
   "cell_type": "markdown",
   "id": "26198769",
   "metadata": {},
   "source": [
    "### Advanced setup\n",
    "\n",
    "<a href=\"https://www.sciosense.com/wp-content/uploads/documents/Application-Note-Baseline-Save-and-Restore-on-CCS811.pdf\">Sensor manual with all the details</a>.\n",
    "\n",
    "The CCS811 sensor has its own processor calculating the values for CO2 (in parts per million) and TVOC (parts per billion) concentrations. This is done by looking at a change from a baseline. This assumes the sensor starts up in 'clean' air. However, the baseline can be read and saved to the sensor like shown below. This way one can determine the baseline in a different location and reuse it."
   ]
  },
  {
   "cell_type": "code",
   "execution_count": null,
   "id": "efe79e06",
   "metadata": {},
   "outputs": [],
   "source": [
    "# Read baseline \n",
    "\n",
    "baseline = ccs.baseline\n",
    "print (baseline)"
   ]
  },
  {
   "cell_type": "code",
   "execution_count": null,
   "id": "91265e4d",
   "metadata": {},
   "outputs": [],
   "source": [
    "# Set a baseline value\n",
    "\n",
    "new_baseline=48904\n",
    "ccs.baseline = new_baseline"
   ]
  },
  {
   "cell_type": "markdown",
   "id": "579dc996",
   "metadata": {},
   "source": [
    "Finally, the calculation of concentrations depends on the temperature and humidity as well. Actual values can be supplied to the sensor (e.g. the one you read from the Enviro board) using these commands:"
   ]
  },
  {
   "cell_type": "code",
   "execution_count": null,
   "id": "c237da46",
   "metadata": {},
   "outputs": [],
   "source": [
    "# We can also set the current T and humudity conditions for better readings\n",
    "\n",
    "h=39.1  # Needs to be in %\n",
    "t=28.1  # Needs to be in C\n",
    "\n",
    "ccs.set_environmental_data(h,t)"
   ]
  },
  {
   "cell_type": "code",
   "execution_count": null,
   "id": "a4cc4e65",
   "metadata": {},
   "outputs": [],
   "source": []
  }
 ],
 "metadata": {
  "kernelspec": {
   "display_name": "Python 3",
   "language": "python",
   "name": "python3"
  },
  "language_info": {
   "codemirror_mode": {
    "name": "ipython",
    "version": 3
   },
   "file_extension": ".py",
   "mimetype": "text/x-python",
   "name": "python",
   "nbconvert_exporter": "python",
   "pygments_lexer": "ipython3",
   "version": "3.7.3"
  }
 },
 "nbformat": 4,
 "nbformat_minor": 5
}
