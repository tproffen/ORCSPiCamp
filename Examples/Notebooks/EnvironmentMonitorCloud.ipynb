{
 "cells": [
  {
   "cell_type": "markdown",
   "id": "291b49c0",
   "metadata": {},
   "source": [
    "# Environment monitor\n",
    "\n",
    "This notebook is the environment monitor. It will log all readings to Adafruit IO and show readings on the LCD screen."
   ]
  },
  {
   "cell_type": "code",
   "execution_count": 91,
   "id": "2d8ef148",
   "metadata": {},
   "outputs": [],
   "source": [
    "import time\n",
    "import ST7735\n",
    "from ltr559 import LTR559\n",
    "from bme280 import BME280\n",
    "from subprocess import PIPE, Popen\n",
    "from PIL import Image, ImageDraw, ImageFont\n",
    "from fonts.ttf import RobotoMedium as UserFont\n",
    "from IPython.display import clear_output, display, update_display"
   ]
  },
  {
   "cell_type": "code",
   "execution_count": 92,
   "id": "1e936241",
   "metadata": {},
   "outputs": [],
   "source": [
    "import json\n",
    "from Adafruit_IO import Client, Feed, RequestError"
   ]
  },
  {
   "cell_type": "code",
   "execution_count": 93,
   "id": "5c451fd7",
   "metadata": {},
   "outputs": [],
   "source": [
    "ADAFRUIT_IO_USERNAME = \"tproffen\"\n",
    "ADAFRUIT_IO_KEY = \"ed44b8031ec34d1fb2eda6f4d8a0c832\""
   ]
  },
  {
   "cell_type": "code",
   "execution_count": 94,
   "id": "c171671a",
   "metadata": {},
   "outputs": [],
   "source": [
    "# Create an instance of the REST client.\n",
    "aio = Client(ADAFRUIT_IO_USERNAME, ADAFRUIT_IO_KEY)"
   ]
  },
  {
   "cell_type": "code",
   "execution_count": 95,
   "id": "444c8eb5",
   "metadata": {},
   "outputs": [],
   "source": [
    "# BME280 temperature/pressure/humidity sensor\n",
    "bme280 = BME280()"
   ]
  },
  {
   "cell_type": "code",
   "execution_count": 96,
   "id": "2bb144ce",
   "metadata": {},
   "outputs": [],
   "source": [
    "# Proximity/Light sensor\n",
    "ltr559 = LTR559()"
   ]
  },
  {
   "cell_type": "markdown",
   "id": "24359a5d",
   "metadata": {},
   "source": [
    "#### Some useful functions"
   ]
  },
  {
   "cell_type": "code",
   "execution_count": 97,
   "id": "0d16c983",
   "metadata": {},
   "outputs": [],
   "source": [
    "def getFeed(name):\n",
    "    try:\n",
    "        feedID = aio.feeds(name)\n",
    "    except RequestError:\n",
    "        feed = Feed(name=name)\n",
    "        feedID = aio.create_feed(feed)\n",
    "    return feedID"
   ]
  },
  {
   "cell_type": "markdown",
   "id": "8adcacce",
   "metadata": {},
   "source": [
    "## Main loop\n",
    "\n",
    "This is the main loop reading values and sending them to the cloud and updating the LCD display. Press Control-C to aboort of click the stop button."
   ]
  },
  {
   "cell_type": "code",
   "execution_count": null,
   "id": "7f2503e1",
   "metadata": {},
   "outputs": [
    {
     "name": "stdout",
     "output_type": "stream",
     "text": [
      "T: 27.0 C - Humidity: 34.9 % - Pressure: 988 hPa\n"
     ]
    }
   ],
   "source": [
    "# Get feeds\n",
    "tempFeed = getFeed(\"temperature\")\n",
    "humidFeed = getFeed(\"humidity\")\n",
    "pressFeed = getFeed(\"pressure\")\n",
    "lightFeed = getFeed(\"brightness\")\n",
    "\n",
    "# Time between readings\n",
    "delay = 20\n",
    "\n",
    "# The main loop\n",
    "while True:\n",
    "    # Read pressure\n",
    "    p = bme280.get_pressure()\n",
    "    t = bme280.get_temperature()\n",
    "    h = bme280.get_humidity()\n",
    "    l = ltr559.get_lux()\n",
    "    \n",
    "    out=\"T: {0:.1f} C - Humidity: {1:.1f} % - Pressure: {2:.0f} hPa\".format(t,h,p)\n",
    "    clear_output()\n",
    "    print(out)\n",
    "    \n",
    "    aio.send_data(tempFeed.key, t)\n",
    "    aio.send_data(humidFeed.key, h)\n",
    "    aio.send_data(pressFeed.key, p)\n",
    "    aio.send_data(lightFeed.key, l)\n",
    "    \n",
    "    time.sleep(delay)\n"
   ]
  },
  {
   "cell_type": "code",
   "execution_count": null,
   "id": "3fe89327",
   "metadata": {},
   "outputs": [],
   "source": []
  }
 ],
 "metadata": {
  "kernelspec": {
   "display_name": "Python 3",
   "language": "python",
   "name": "python3"
  },
  "language_info": {
   "codemirror_mode": {
    "name": "ipython",
    "version": 3
   },
   "file_extension": ".py",
   "mimetype": "text/x-python",
   "name": "python",
   "nbconvert_exporter": "python",
   "pygments_lexer": "ipython3",
   "version": "3.7.3"
  }
 },
 "nbformat": 4,
 "nbformat_minor": 5
}
