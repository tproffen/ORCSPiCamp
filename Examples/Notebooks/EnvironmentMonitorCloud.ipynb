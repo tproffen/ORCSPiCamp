{
 "cells": [
  {
   "cell_type": "markdown",
   "id": "291b49c0",
   "metadata": {},
   "source": [
    "# Environment monitor\n",
    "\n",
    "This notebook is the environment monitor. It will log all readings to Adafruit IO and show readings on the LCD screen."
   ]
  },
  {
   "cell_type": "code",
   "execution_count": null,
   "id": "2d8ef148",
   "metadata": {},
   "outputs": [],
   "source": [
    "import time\n",
    "import ST7735\n",
    "from ltr559 import LTR559\n",
    "from bme280 import BME280\n",
    "from PIL import Image, ImageDraw, ImageFont\n",
    "from fonts.ttf import RobotoMedium as UserFont\n",
    "from IPython.display import clear_output, display, update_display\n",
    "import matplotlib.pyplot as plt"
   ]
  },
  {
   "cell_type": "code",
   "execution_count": null,
   "id": "1e936241",
   "metadata": {},
   "outputs": [],
   "source": [
    "import json\n",
    "from Adafruit_IO import Client, Feed, RequestError"
   ]
  },
  {
   "cell_type": "code",
   "execution_count": null,
   "id": "5c451fd7",
   "metadata": {},
   "outputs": [],
   "source": [
    "# These need to be added once the Adafruit IO account is setup.\n",
    "ADAFRUIT_IO_USERNAME = \"\"\n",
    "ADAFRUIT_IO_KEY = \"\""
   ]
  },
  {
   "cell_type": "code",
   "execution_count": null,
   "id": "c171671a",
   "metadata": {},
   "outputs": [],
   "source": [
    "# Create an instance of the REST client.\n",
    "aio = Client(ADAFRUIT_IO_USERNAME, ADAFRUIT_IO_KEY)"
   ]
  },
  {
   "cell_type": "code",
   "execution_count": null,
   "id": "444c8eb5",
   "metadata": {},
   "outputs": [],
   "source": [
    "# BME280 temperature/pressure/humidity sensor\n",
    "bme280 = BME280()"
   ]
  },
  {
   "cell_type": "code",
   "execution_count": null,
   "id": "2bb144ce",
   "metadata": {},
   "outputs": [],
   "source": [
    "# Proximity/Light sensor\n",
    "ltr559 = LTR559()"
   ]
  },
  {
   "cell_type": "code",
   "execution_count": null,
   "id": "436e2b3f",
   "metadata": {},
   "outputs": [],
   "source": [
    "# Setting up the LCD display\n",
    "disp = ST7735.ST7735(port=0,cs=1,dc=9,backlight=12,rotation=270,spi_speed_hz=10000000)\n",
    "disp.begin()\n",
    "\n",
    "back_color = (0, 60, 20)\n",
    "text_color = (255, 255, 255)\n",
    "head_color = (255, 255,   0)\n",
    "warn_color = (255,  50,  50)\n",
    "font_size  = 14\n",
    "text_margin= 5\n",
    "\n",
    "img = Image.new('RGBA', (disp.width, disp.height))\n",
    "draw = ImageDraw.Draw(img)\n",
    "font = ImageFont.truetype(UserFont, font_size)\n",
    "size_x, size_y = draw.textsize('text', font)"
   ]
  },
  {
   "cell_type": "markdown",
   "id": "24359a5d",
   "metadata": {},
   "source": [
    "#### Some useful functions\n",
    "\n",
    "Getting the feed id from Adafruit IO."
   ]
  },
  {
   "cell_type": "code",
   "execution_count": null,
   "id": "5d251ec2",
   "metadata": {},
   "outputs": [],
   "source": [
    "def getFeed(name):\n",
    "    try:\n",
    "        feedID = aio.feeds(name)\n",
    "    except RequestError:\n",
    "        feed = Feed(name=name)\n",
    "        feedID = aio.create_feed(feed)\n",
    "    return feedID"
   ]
  },
  {
   "cell_type": "markdown",
   "id": "ae578c4b",
   "metadata": {},
   "source": [
    "Updating the LCD screen with readings."
   ]
  },
  {
   "cell_type": "code",
   "execution_count": null,
   "id": "c79638eb",
   "metadata": {},
   "outputs": [],
   "source": [
    "def updateLCD(t,h,p): \n",
    "    tstr=\"Temperature: {0:.1f} C\".format(t)\n",
    "    hstr=\"Humidity: {0:.1f} %\".format(h)\n",
    "    pstr=\"Pressure: {0:.1f} hPa\".format(p)\n",
    "    \n",
    "    draw.rectangle((0, 0, disp.width, disp.height), back_color)\n",
    "    draw.text((text_margin, text_margin), \"ORCSPICamp Station\", font=font, fill=head_color)\n",
    "    draw.text((text_margin, text_margin+2.0*size_y), tstr, font=font, fill=text_color)\n",
    "    draw.text((text_margin, text_margin+3.0*size_y), hstr, font=font, fill=text_color)\n",
    "    draw.text((text_margin, text_margin+4.0*size_y), pstr, font=font, fill=text_color)\n",
    "\n",
    "    disp.display(img)"
   ]
  },
  {
   "cell_type": "markdown",
   "id": "c76ebecb",
   "metadata": {},
   "source": [
    "In notebook plotting of measured data."
   ]
  },
  {
   "cell_type": "code",
   "execution_count": null,
   "id": "b7677d90",
   "metadata": {},
   "outputs": [],
   "source": [
    "# Array for local data to plot\n",
    "tdata=[]\n",
    "hdata=[]\n",
    "pdata=[]\n",
    "\n",
    "def updatePlot(t,h,p):\n",
    "    tdata.append(t)\n",
    "    hdata.append(h)\n",
    "    pdata.append(p)\n",
    "    positions = range(len(tdata));\n",
    "    \n",
    "    plt.clf();\n",
    "    plt.figure(figsize=(10, 8))\n",
    "    plt.subplot(311);\n",
    "    plt.ylabel(\"Temperature (C)\")\n",
    "    plt.plot(positions, tdata);\n",
    "    plt.subplot(312);\n",
    "    plt.ylabel(\"Humidity (%)\")\n",
    "    plt.plot(positions, hdata);\n",
    "    plt.subplot(313);\n",
    "    plt.ylabel(\"Pressure (hPa)\")\n",
    "    plt.plot(positions, pdata);\n",
    "    \n",
    "    display(plt.gcf()); \n"
   ]
  },
  {
   "cell_type": "markdown",
   "id": "8adcacce",
   "metadata": {},
   "source": [
    "## Main loop\n",
    "\n",
    "This is the main loop reading values and sending them to the cloud and updating the LCD display. Press Control-C to abort of click the stop button."
   ]
  },
  {
   "cell_type": "code",
   "execution_count": null,
   "id": "7f2503e1",
   "metadata": {},
   "outputs": [],
   "source": [
    "# Get feeds\n",
    "tempFeed = getFeed(\"temperature\")\n",
    "humidFeed = getFeed(\"humidity\")\n",
    "pressFeed = getFeed(\"pressure\")\n",
    "lightFeed = getFeed(\"brightness\")\n",
    "\n",
    "# Set metadata associated with our measurement station\n",
    "metadata = {'lat': 36.010357,\n",
    "            'lon': -84.269646,\n",
    "            'ele': 850,\n",
    "            'created_at': None}\n",
    "\n",
    "# Time between readings\n",
    "delay = 20\n",
    "\n",
    "# The main loop\n",
    "try:\n",
    "    while True:\n",
    "        # Read pressure\n",
    "        p = bme280.get_pressure()\n",
    "        t = bme280.get_temperature()\n",
    "        h = bme280.get_humidity()\n",
    "        l = ltr559.get_lux()\n",
    "\n",
    "        clear_output(wait=True)\n",
    "        updatePlot(t,h,p)\n",
    "        updateLCD(t,h,p)\n",
    "\n",
    "        out=\"T: {0:.1f} C - Humidity: {1:.1f} % - Pressure: {2:.0f} hPa\".format(t,h,p)\n",
    "        print(out)\n",
    "\n",
    "        aio.send_data(tempFeed.key,  t, metadata)\n",
    "        aio.send_data(humidFeed.key, h, metadata)\n",
    "        aio.send_data(pressFeed.key, p, metadata)\n",
    "        aio.send_data(lightFeed.key, l, metadata)\n",
    "\n",
    "        time.sleep(delay)\n",
    "\n",
    "except KeyboardInterrupt:\n",
    "    print(\"Loop terminated by user\")\n",
    "    pass"
   ]
  },
  {
   "cell_type": "code",
   "execution_count": null,
   "id": "63a93d35",
   "metadata": {},
   "outputs": [],
   "source": []
  }
 ],
 "metadata": {
  "kernelspec": {
   "display_name": "Python 3",
   "language": "python",
   "name": "python3"
  },
  "language_info": {
   "codemirror_mode": {
    "name": "ipython",
    "version": 3
   },
   "file_extension": ".py",
   "mimetype": "text/x-python",
   "name": "python",
   "nbconvert_exporter": "python",
   "pygments_lexer": "ipython3",
   "version": "3.7.3"
  }
 },
 "nbformat": 4,
 "nbformat_minor": 5
}
