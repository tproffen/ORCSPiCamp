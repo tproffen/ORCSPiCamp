{
 "cells": [
  {
   "cell_type": "code",
   "execution_count": 3,
   "id": "eb8fc63f",
   "metadata": {},
   "outputs": [],
   "source": [
    "import time\n",
    "from IPython.display import clear_output\n",
    "from ltr559 import LTR559\n",
    "\n",
    "ltr559 = LTR559()"
   ]
  },
  {
   "cell_type": "code",
   "execution_count": 4,
   "id": "1236686a",
   "metadata": {},
   "outputs": [
    {
     "name": "stdout",
     "output_type": "stream",
     "text": [
      "Lux: 007.53, Proximity: 0000\n"
     ]
    }
   ],
   "source": [
    "try:\n",
    "    while True:\n",
    "        ltr559.update_sensor()\n",
    "        lux = ltr559.get_lux()\n",
    "        prox = ltr559.get_proximity()\n",
    "\n",
    "        clear_output(wait=True)\n",
    "        print(\"Lux: {:06.2f}, Proximity: {:04d}\".format(lux, prox))\n",
    "\n",
    "        time.sleep(0.05)\n",
    "except KeyboardInterrupt:\n",
    "    pass"
   ]
  },
  {
   "cell_type": "code",
   "execution_count": null,
   "id": "20950620",
   "metadata": {},
   "outputs": [],
   "source": []
  }
 ],
 "metadata": {
  "kernelspec": {
   "display_name": "Python 3",
   "language": "python",
   "name": "python3"
  },
  "language_info": {
   "codemirror_mode": {
    "name": "ipython",
    "version": 3
   },
   "file_extension": ".py",
   "mimetype": "text/x-python",
   "name": "python",
   "nbconvert_exporter": "python",
   "pygments_lexer": "ipython3",
   "version": "3.7.3"
  }
 },
 "nbformat": 4,
 "nbformat_minor": 5
}
