{
 "cells": [
  {
   "cell_type": "markdown",
   "id": "18332d89",
   "metadata": {},
   "source": [
    "### Measuring the temperature"
   ]
  },
  {
   "cell_type": "code",
   "execution_count": null,
   "id": "434dca5d",
   "metadata": {},
   "outputs": [],
   "source": [
    "# Loading library for bme280 sensor\n",
    "from bme280 import BME280"
   ]
  },
  {
   "cell_type": "code",
   "execution_count": null,
   "id": "ed36393c",
   "metadata": {},
   "outputs": [],
   "source": [
    "# BME280 temperature/pressure/humidity sensor\n",
    "bme280 = BME280()"
   ]
  },
  {
   "cell_type": "code",
   "execution_count": null,
   "id": "b5d8d663",
   "metadata": {},
   "outputs": [],
   "source": [
    "# Reading values\n",
    "p = bme280.get_pressure()\n",
    "t = bme280.get_temperature()\n",
    "h = bme280.get_humidity()\n",
    "\n",
    "# Printing the values\n",
    "print(t,h,p)"
   ]
  },
  {
   "cell_type": "code",
   "execution_count": null,
   "id": "12d97b0d",
   "metadata": {},
   "outputs": [],
   "source": [
    "# Printing them out pretty\n",
    "out=\"T: {0:.1f} C - Humidity: {1:.1f} % - Pressure: {2:.0f} hPa\".format(t,h,p) \n",
    "print(out)"
   ]
  },
  {
   "cell_type": "markdown",
   "id": "1985d4b8",
   "metadata": {},
   "source": [
    "### Reading and plotting the temperature"
   ]
  },
  {
   "cell_type": "code",
   "execution_count": null,
   "id": "37e4672a",
   "metadata": {},
   "outputs": [],
   "source": [
    "# Plotting libraries\n",
    "from IPython.display import clear_output, display, update_display\n",
    "import matplotlib.pyplot as plt\n",
    "import time"
   ]
  },
  {
   "cell_type": "code",
   "execution_count": null,
   "id": "df864da8",
   "metadata": {},
   "outputs": [],
   "source": [
    "# Empty list to hold the values\n",
    "data=[]\n",
    "\n",
    "try:\n",
    "    while True:\n",
    "        value=bme280.get_temperature()\n",
    "        data.append(value)\n",
    "        positions = range(len(data));\n",
    "\n",
    "        plt.clf();\n",
    "        plt.xlabel(\"Data point\")\n",
    "        plt.ylabel(\"Temperature (C)\")\n",
    "        plt.plot(positions, data);\n",
    "        display(plt.gcf());\n",
    "        clear_output(wait=True)\n",
    "\n",
    "        time.sleep(5)\n",
    "    \n",
    "except KeyboardInterrupt:\n",
    "    print(\"Loop terminated by user\")\n",
    "    pass"
   ]
  },
  {
   "cell_type": "markdown",
   "id": "eb3874af",
   "metadata": {},
   "source": [
    "#### Challenge\n",
    "\n",
    "Can you modify the code above to show the humidity or pressure instead of the temperature?"
   ]
  },
  {
   "cell_type": "code",
   "execution_count": null,
   "id": "3cd0d992",
   "metadata": {},
   "outputs": [],
   "source": []
  }
 ],
 "metadata": {
  "kernelspec": {
   "display_name": "Python 3",
   "language": "python",
   "name": "python3"
  },
  "language_info": {
   "codemirror_mode": {
    "name": "ipython",
    "version": 3
   },
   "file_extension": ".py",
   "mimetype": "text/x-python",
   "name": "python",
   "nbconvert_exporter": "python",
   "pygments_lexer": "ipython3",
   "version": "3.7.3"
  }
 },
 "nbformat": 4,
 "nbformat_minor": 5
}
