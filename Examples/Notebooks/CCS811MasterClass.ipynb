{
 "cells": [
  {
   "cell_type": "code",
   "execution_count": null,
   "id": "cf5478ae",
   "metadata": {},
   "outputs": [],
   "source": [
    "import busio\n",
    "import board\n",
    "import adafruit_ccs811\n",
    "import time\n",
    "\n",
    "from IPython.display import clear_output\n",
    "from board import *"
   ]
  },
  {
   "cell_type": "code",
   "execution_count": null,
   "id": "6a73acc1",
   "metadata": {},
   "outputs": [],
   "source": [
    "i2c = board.I2C() \n",
    "ccs = adafruit_ccs811.CCS811(i2c)\n",
    "\n",
    "while (not ccs.data_ready):\n",
    "    pass\n",
    "\n",
    "print (\"Sensor ready.\")"
   ]
  },
  {
   "cell_type": "code",
   "execution_count": null,
   "id": "12761ab0",
   "metadata": {},
   "outputs": [],
   "source": [
    "while True:\n",
    "    try:\n",
    "        clear_output(wait=True)\n",
    "        print(\"CO2: \", ccs.eco2, \" TVOC:\", ccs.tvoc)\n",
    "        time.sleep(2.0)\n",
    "    except IOError:\n",
    "        pass\n",
    "    except KeyboardInterrupt:\n",
    "        print (\"Loop terminated by user.\")"
   ]
  },
  {
   "cell_type": "code",
   "execution_count": null,
   "id": "75cb8d03",
   "metadata": {},
   "outputs": [],
   "source": []
  }
 ],
 "metadata": {
  "kernelspec": {
   "display_name": "Python 3",
   "language": "python",
   "name": "python3"
  },
  "language_info": {
   "codemirror_mode": {
    "name": "ipython",
    "version": 3
   },
   "file_extension": ".py",
   "mimetype": "text/x-python",
   "name": "python",
   "nbconvert_exporter": "python",
   "pygments_lexer": "ipython3",
   "version": "3.7.3"
  }
 },
 "nbformat": 4,
 "nbformat_minor": 5
}
